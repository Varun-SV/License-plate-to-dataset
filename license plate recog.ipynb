{
 "cells": [
  {
   "cell_type": "code",
   "execution_count": 1,
   "id": "d16c1526-1fde-45bf-aa23-b1de8358b8cf",
   "metadata": {},
   "outputs": [
    {
     "name": "stderr",
     "output_type": "stream",
     "text": [
      "[nltk_data] Downloading package punkt to\n",
      "[nltk_data]     C:\\Users\\varun\\AppData\\Roaming\\nltk_data...\n",
      "[nltk_data]   Unzipping tokenizers\\punkt.zip.\n",
      "[nltk_data] Downloading collection 'popular'\n",
      "[nltk_data]    | \n",
      "[nltk_data]    | Downloading package cmudict to\n",
      "[nltk_data]    |     C:\\Users\\varun\\AppData\\Roaming\\nltk_data...\n",
      "[nltk_data]    |   Package cmudict is already up-to-date!\n",
      "[nltk_data]    | Downloading package gazetteers to\n",
      "[nltk_data]    |     C:\\Users\\varun\\AppData\\Roaming\\nltk_data...\n",
      "[nltk_data]    |   Package gazetteers is already up-to-date!\n",
      "[nltk_data]    | Downloading package genesis to\n",
      "[nltk_data]    |     C:\\Users\\varun\\AppData\\Roaming\\nltk_data...\n",
      "[nltk_data]    |   Package genesis is already up-to-date!\n",
      "[nltk_data]    | Downloading package gutenberg to\n",
      "[nltk_data]    |     C:\\Users\\varun\\AppData\\Roaming\\nltk_data...\n",
      "[nltk_data]    |   Package gutenberg is already up-to-date!\n",
      "[nltk_data]    | Downloading package inaugural to\n",
      "[nltk_data]    |     C:\\Users\\varun\\AppData\\Roaming\\nltk_data...\n",
      "[nltk_data]    |   Unzipping corpora\\inaugural.zip.\n",
      "[nltk_data]    | Downloading package movie_reviews to\n",
      "[nltk_data]    |     C:\\Users\\varun\\AppData\\Roaming\\nltk_data...\n",
      "[nltk_data]    |   Package movie_reviews is already up-to-date!\n",
      "[nltk_data]    | Downloading package names to\n",
      "[nltk_data]    |     C:\\Users\\varun\\AppData\\Roaming\\nltk_data...\n",
      "[nltk_data]    |   Package names is already up-to-date!\n",
      "[nltk_data]    | Downloading package shakespeare to\n",
      "[nltk_data]    |     C:\\Users\\varun\\AppData\\Roaming\\nltk_data...\n",
      "[nltk_data]    |   Package shakespeare is already up-to-date!\n",
      "[nltk_data]    | Downloading package stopwords to\n",
      "[nltk_data]    |     C:\\Users\\varun\\AppData\\Roaming\\nltk_data...\n",
      "[nltk_data]    |   Unzipping corpora\\stopwords.zip.\n",
      "[nltk_data]    | Downloading package treebank to\n",
      "[nltk_data]    |     C:\\Users\\varun\\AppData\\Roaming\\nltk_data...\n",
      "[nltk_data]    |   Package treebank is already up-to-date!\n",
      "[nltk_data]    | Downloading package twitter_samples to\n",
      "[nltk_data]    |     C:\\Users\\varun\\AppData\\Roaming\\nltk_data...\n",
      "[nltk_data]    |   Package twitter_samples is already up-to-date!\n",
      "[nltk_data]    | Downloading package omw to\n",
      "[nltk_data]    |     C:\\Users\\varun\\AppData\\Roaming\\nltk_data...\n",
      "[nltk_data]    |   Package omw is already up-to-date!\n",
      "[nltk_data]    | Downloading package omw-1.4 to\n",
      "[nltk_data]    |     C:\\Users\\varun\\AppData\\Roaming\\nltk_data...\n",
      "[nltk_data]    | Downloading package wordnet to\n",
      "[nltk_data]    |     C:\\Users\\varun\\AppData\\Roaming\\nltk_data...\n",
      "[nltk_data]    |   Package wordnet is already up-to-date!\n",
      "[nltk_data]    | Downloading package wordnet2021 to\n",
      "[nltk_data]    |     C:\\Users\\varun\\AppData\\Roaming\\nltk_data...\n",
      "[nltk_data]    | Downloading package wordnet31 to\n",
      "[nltk_data]    |     C:\\Users\\varun\\AppData\\Roaming\\nltk_data...\n",
      "[nltk_data]    |   Unzipping corpora\\wordnet31.zip.\n",
      "[nltk_data]    | Downloading package wordnet_ic to\n",
      "[nltk_data]    |     C:\\Users\\varun\\AppData\\Roaming\\nltk_data...\n",
      "[nltk_data]    |   Package wordnet_ic is already up-to-date!\n",
      "[nltk_data]    | Downloading package words to\n",
      "[nltk_data]    |     C:\\Users\\varun\\AppData\\Roaming\\nltk_data...\n",
      "[nltk_data]    |   Package words is already up-to-date!\n",
      "[nltk_data]    | Downloading package maxent_ne_chunker to\n",
      "[nltk_data]    |     C:\\Users\\varun\\AppData\\Roaming\\nltk_data...\n",
      "[nltk_data]    |   Package maxent_ne_chunker is already up-to-date!\n",
      "[nltk_data]    | Downloading package punkt to\n",
      "[nltk_data]    |     C:\\Users\\varun\\AppData\\Roaming\\nltk_data...\n",
      "[nltk_data]    |   Package punkt is already up-to-date!\n",
      "[nltk_data]    | Downloading package snowball_data to\n",
      "[nltk_data]    |     C:\\Users\\varun\\AppData\\Roaming\\nltk_data...\n",
      "[nltk_data]    |   Package snowball_data is already up-to-date!\n",
      "[nltk_data]    | Downloading package averaged_perceptron_tagger to\n",
      "[nltk_data]    |     C:\\Users\\varun\\AppData\\Roaming\\nltk_data...\n",
      "[nltk_data]    |   Package averaged_perceptron_tagger is already up-\n",
      "[nltk_data]    |       to-date!\n",
      "[nltk_data]    | \n",
      "[nltk_data]  Done downloading collection popular\n"
     ]
    }
   ],
   "source": [
    "import os\n",
    "import cv2\n",
    "import pytesseract as pyt\n",
    "import glob\n",
    "import numpy as np\n",
    "import pandas as pd\n",
    "import nltk\n",
    "import re\n",
    "nltk.download('punkt') #sentence tokenizer puunctuation kit\n",
    "nltk.download('popular')\n",
    "from nltk.tokenize import word_tokenize as wt\n",
    "from string import punctuation\n",
    "pun = list(punctuation)\n",
    "pun.append('\\n')\n",
    "pyt.pytesseract.tesseract_cmd = r\"D:\\\\Softwares\\\\Installed_Softwares\\\\Anaconda\\\\Library\\\\bin\\\\tesseract.exe\""
   ]
  },
  {
   "cell_type": "code",
   "execution_count": 2,
   "id": "3a51409d-d7f1-46b5-be17-5f6381975f33",
   "metadata": {},
   "outputs": [],
   "source": [
    "# for r,s,f in os.walk(\"/\"):\n",
    "#     for i in f:\n",
    "#         if \"tesseract\" in i:\n",
    "#             print(os.path.join(r,i))"
   ]
  },
  {
   "cell_type": "code",
   "execution_count": 3,
   "id": "2fc67666-9ce2-4bf0-b706-1a55a1efe6eb",
   "metadata": {},
   "outputs": [],
   "source": [
    "# pyt.pytesseract.tesseract_cmd = r\"D:\\\\Softwares\\\\Installed_Softwares\\\\Anaconda\\\\Library\\\\bin\\\\tesseract.exe\"\n",
    "# img = cv2.imread(\"Datasets\\\\Indian License Plates\\\\Indian License Plates\\\\in\\\\in\\\\Audi-A4-528794d.jpg_0359_0305_0250_0204_0066.png\")\n",
    "# img = cv2.cvtColor(img,cv2.COLOR_BGR2RGB)\n",
    "# text = pyt.image_to_string(img) \n",
    "# print(text)"
   ]
  },
  {
   "cell_type": "code",
   "execution_count": 4,
   "id": "71617542-f069-4d87-b4e1-1ac88aa68e84",
   "metadata": {},
   "outputs": [],
   "source": [
    "# text[1:len(text)-2]"
   ]
  },
  {
   "cell_type": "code",
   "execution_count": 5,
   "id": "9228c3da-61f5-4726-9ffb-ceeb287cc41c",
   "metadata": {},
   "outputs": [],
   "source": [
    "\n",
    "# cv_img = []\n",
    "# for img in glob.glob(\"Datasets\\\\Indian License Plates\\\\Indian License Plates\\\\in\\\\in\\\\*.png\"):\n",
    "#     n= cv2.imread(img)\n",
    "#     cv_img.append(n)"
   ]
  },
  {
   "cell_type": "code",
   "execution_count": 6,
   "id": "5955c894-42f0-4b0d-9971-b9e17d5a8187",
   "metadata": {},
   "outputs": [],
   "source": [
    "# os.listdir(\"Datasets\\\\Indian License Plates\\\\Indian License Plates\\\\in\\\\in\\\\\")"
   ]
  },
  {
   "cell_type": "code",
   "execution_count": 7,
   "id": "45330c7c-1680-49b5-a495-a9196f35e888",
   "metadata": {},
   "outputs": [],
   "source": [
    "def img_to_string(img_source):\n",
    "    text=''\n",
    "    img = cv2.imread(str(img_source))\n",
    "    img = cv2.cvtColor(img,cv2.COLOR_BGR2RGB)\n",
    "    text = pyt.image_to_string(img) \n",
    "#     return text[1:len(text)-2]\n",
    "    return text"
   ]
  },
  {
   "cell_type": "code",
   "execution_count": 8,
   "id": "5df3eb8e-2003-49c1-8814-ecae1d9d2922",
   "metadata": {},
   "outputs": [],
   "source": [
    "# def non_punct(text):\n",
    "#     return re.sub(\"^ [a - z]\",\" \",str(text))"
   ]
  },
  {
   "cell_type": "code",
   "execution_count": 9,
   "id": "7c1cc5f8-3ae8-47d8-807c-fb394f2519ab",
   "metadata": {
    "tags": []
   },
   "outputs": [],
   "source": [
    "# license_plates = []\n",
    "# license_plates_text = []\n",
    "# license_plates.append(os.listdir(\"Datasets\\\\Indian License Plates\\\\Indian License Plates\\\\in\\\\in\\\\\"))\n"
   ]
  },
  {
   "cell_type": "code",
   "execution_count": 10,
   "id": "1b0da74e-ef50-4a9f-b8ca-e9753e1931c0",
   "metadata": {},
   "outputs": [],
   "source": [
    "# def nonpunct(text):\n",
    "#   #cleaned_tokens = [token for token in lower_case if token not in stop_words and token not in pun]\n",
    "#     tok = wt(text)\n",
    "#     new_text=\"\"\n",
    "#     cleaned_tok = [token for token in tok if token not in pun]\n",
    "#     for i in cleaned_tok:\n",
    "#         new_text += i\n",
    "#         new_text += ' '\n",
    "#     return new_text"
   ]
  },
  {
   "cell_type": "code",
   "execution_count": 11,
   "id": "9568498b-4330-4975-bd08-9aebfae864cf",
   "metadata": {},
   "outputs": [],
   "source": [
    "def nonpunct(text):\n",
    "    text=text.lower()\n",
    "    new_text=\"\"\n",
    "  #cleaned_tokens = [token for token in lower_case if token not in stop_words and token not in pun]\n",
    "    for i in text:\n",
    "        # print(i)\n",
    "        \n",
    "        if i.isalnum:\n",
    "            if str(i) not in pun:\n",
    "                # print(i)\n",
    "                new_text += i\n",
    "            else:\n",
    "                new_text +=' '\n",
    "        else:\n",
    "            new_text += ' '\n",
    "        # for i in cleaned_tok:\n",
    "    return new_text.upper()"
   ]
  },
  {
   "cell_type": "code",
   "execution_count": 12,
   "id": "c43489c0-75ee-44a5-9199-3a2e1b8ae70c",
   "metadata": {},
   "outputs": [
    {
     "data": {
      "text/plain": [
       "'I KAO 3MS 79794 '"
      ]
     },
     "execution_count": 12,
     "metadata": {},
     "output_type": "execute_result"
    }
   ],
   "source": [
    "nonpunct(\"I KAO$3MS;79794\\n\")"
   ]
  },
  {
   "cell_type": "code",
   "execution_count": 13,
   "id": "1b5cad0e-eb57-4b74-a657-cd915d13b107",
   "metadata": {
    "tags": []
   },
   "outputs": [],
   "source": [
    "# for i in range(1,len(license_plates[0])):\n",
    "# #     print(i)\n",
    "#     license_plates_text.append(img_to_string(\"Datasets\\\\Indian License Plates\\\\Indian License Plates\\\\in\\\\in\\\\\"+str(license_plates[0][i])))\n",
    "#     print(str(i)+' : '+str(license_plates[0][i]))\n",
    "#     print(\"Recognised text : \"+str(license_plates_text[i-1]))\n",
    "# #     print(license_plates[0][i])\n",
    "# # print(license_plates_text)"
   ]
  },
  {
   "cell_type": "code",
   "execution_count": 14,
   "id": "31da9600-ed36-4d5d-b110-46c8276ff9c7",
   "metadata": {},
   "outputs": [],
   "source": [
    "# license_plates_text[56]"
   ]
  },
  {
   "cell_type": "code",
   "execution_count": 15,
   "id": "541c822b-1522-4e27-b020-bfd989981fb5",
   "metadata": {},
   "outputs": [],
   "source": [
    "# license_plates_text"
   ]
  },
  {
   "cell_type": "code",
   "execution_count": 16,
   "id": "55f622ae-fdf7-416d-98ec-5d7e7abdae56",
   "metadata": {},
   "outputs": [],
   "source": [
    "# #@title Converting the list to csv file\n",
    "\n",
    "# df = pd.DataFrame(license_plates_text)\n",
    "# df.to_csv(\"License Plates.csv\",index = False)"
   ]
  },
  {
   "cell_type": "code",
   "execution_count": 17,
   "id": "ada8ae61-fd71-4b71-a6ad-1d3e1c29edfc",
   "metadata": {},
   "outputs": [],
   "source": [
    "# data = pd.read_csv('License Plates.csv')"
   ]
  },
  {
   "cell_type": "code",
   "execution_count": 18,
   "id": "004d574a-9fc0-420f-b5e5-9ed5c7405e99",
   "metadata": {},
   "outputs": [],
   "source": [
    "# data.head()"
   ]
  },
  {
   "cell_type": "code",
   "execution_count": 19,
   "id": "9ec04488-372a-4701-bb79-4206e596a9bc",
   "metadata": {},
   "outputs": [],
   "source": [
    "# data.rename(columns={\"0\": \"Folder : in \"}, inplace=True)\n",
    "# data.head()"
   ]
  },
  {
   "cell_type": "code",
   "execution_count": 20,
   "id": "0f246415-c285-4ffc-869e-5c7aae291c1e",
   "metadata": {},
   "outputs": [],
   "source": [
    "# license_plates2 = []\n",
    "# license_plates_text2 = []\n",
    "# license_plates2.append(os.listdir(\"Datasets\\\\Indian License Plates\\\\Indian License Plates\\\\Indian Number Plate\\\\Indian Number Plate\\\\\"))\n",
    "# print(license_plates2[0][2])"
   ]
  },
  {
   "cell_type": "code",
   "execution_count": 21,
   "id": "004d996f-83e3-4fa8-beb4-2093103051a0",
   "metadata": {},
   "outputs": [],
   "source": [
    "# for j in range(1,len(license_plates2[0])):\n",
    "# #     print(i)\n",
    "#     license_plates_text2.append(img_to_string(\"Datasets\\\\Indian License Plates\\\\Indian License Plates\\\\Indian Number Plate\\\\Indian Number Plate\\\\\"+str(license_plates2[0][j])))\n",
    "#     print(str(j)+' : '+str(license_plates2[0][j]))\n",
    "# #     print(license_plates[0][i])\n",
    "# # print(license_plates_text)"
   ]
  },
  {
   "cell_type": "code",
   "execution_count": 22,
   "id": "7979f264-cc7c-42ea-a38f-37d9b86c2157",
   "metadata": {},
   "outputs": [],
   "source": [
    "# df = pd.DataFrame(license_plates_text2)\n",
    "# df.to_csv(\"Indian Number Plates.csv\",index = False)\n",
    "\n",
    "# data = pd.read_csv('Indian Number Plates.csv')\n",
    "\n",
    "# data.rename(columns={\"0\": \"Folder : Indian Number Plates \"}, inplace=True)\n",
    "\n",
    "# # data.head()\n",
    "\n",
    "# data['Folder : Indian Number Plate']=license_plates_text2"
   ]
  },
  {
   "cell_type": "code",
   "execution_count": 23,
   "id": "45ce0ce8-94d6-44e3-82c3-9c1aca9074ce",
   "metadata": {},
   "outputs": [],
   "source": [
    "license_plates3 = []\n",
    "license_plates_text3=[]\n",
    "license_plates3.append(os.listdir(\"Datasets\\\\Indian License Plates\\\\Indian License Plates\\\\Indian Plates\\\\positive\\\\\"))\n",
    "# license_plates_text3 = np.ndarray(shape = (len(license_plates3[0]),1), dtype = str)\n",
    "# print(license_plates_text3.shape)\n",
    "# print(license_plates3[0][2])"
   ]
  },
  {
   "cell_type": "code",
   "execution_count": 24,
   "id": "666818de-b13b-4dbb-9a9d-a30d9ae9f7d2",
   "metadata": {},
   "outputs": [],
   "source": [
    "# print(len(license_plates3[0]))"
   ]
  },
  {
   "cell_type": "code",
   "execution_count": 25,
   "id": "c8f6d908-c244-4656-bf1b-4bfab5e7d69e",
   "metadata": {},
   "outputs": [],
   "source": [
    "for j in range(1,len(license_plates3[0])):\n",
    "#     print(i)\n",
    "    # license_plates_text3[j-1]=(img_to_string(\"Datasets\\\\Indian License Plates\\\\Indian License Plates\\\\Indian Plates\\\\positive\\\\\"+str(license_plates3[0][j])))\n",
    "    license_plates_text3.append(img_to_string(\"Datasets\\\\Indian License Plates\\\\Indian License Plates\\\\Indian Plates\\\\positive\\\\\"+str(license_plates3[0][j])))\n",
    "    # print(str(j)+' : '+str(license_plates3[0][j]))\n",
    "    # print(\"Recognised text : \"+str(license_plates_text3[j-1]))\n",
    "\n",
    "#     print(license_plates[0][i])\n",
    "# print(license_plates_text)"
   ]
  },
  {
   "cell_type": "code",
   "execution_count": 26,
   "id": "e8b43c7e-79a0-47d1-aaa0-2833e65022be",
   "metadata": {},
   "outputs": [
    {
     "name": "stdout",
     "output_type": "stream",
     "text": [
      "Recognised text : 1181\n"
     ]
    }
   ],
   "source": [
    "print(\"Recognised text : \"+str(len(license_plates_text3)))"
   ]
  },
  {
   "cell_type": "code",
   "execution_count": 27,
   "id": "2b460f17-4444-4ca4-b7eb-86ecce605485",
   "metadata": {},
   "outputs": [
    {
     "data": {
      "text/html": [
       "<div>\n",
       "<style scoped>\n",
       "    .dataframe tbody tr th:only-of-type {\n",
       "        vertical-align: middle;\n",
       "    }\n",
       "\n",
       "    .dataframe tbody tr th {\n",
       "        vertical-align: top;\n",
       "    }\n",
       "\n",
       "    .dataframe thead th {\n",
       "        text-align: right;\n",
       "    }\n",
       "</style>\n",
       "<table border=\"1\" class=\"dataframe\">\n",
       "  <thead>\n",
       "    <tr style=\"text-align: right;\">\n",
       "      <th></th>\n",
       "      <th>0</th>\n",
       "    </tr>\n",
       "  </thead>\n",
       "  <tbody>\n",
       "    <tr>\n",
       "      <th>0</th>\n",
       "      <td>I KAO3MS79794\\n</td>\n",
       "    </tr>\n",
       "    <tr>\n",
       "      <th>1</th>\n",
       "      <td></td>\n",
       "    </tr>\n",
       "    <tr>\n",
       "      <th>2</th>\n",
       "      <td>FR 2686 0394\\n</td>\n",
       "    </tr>\n",
       "    <tr>\n",
       "      <th>3</th>\n",
       "      <td>I=L 1¢P0290)\\n</td>\n",
       "    </tr>\n",
       "    <tr>\n",
       "      <th>4</th>\n",
       "      <td>KA%45 M 2052.\\n</td>\n",
       "    </tr>\n",
       "  </tbody>\n",
       "</table>\n",
       "</div>"
      ],
      "text/plain": [
       "                  0\n",
       "0  I KAO3MS79794\\n\n",
       "\n",
       "1                 \n",
       "\n",
       "2   FR 2686 0394\\n\n",
       "\n",
       "3   I=L 1¢P0290)\\n\n",
       "\n",
       "4  KA%45 M 2052.\\n"
      ]
     },
     "execution_count": 27,
     "metadata": {},
     "output_type": "execute_result"
    }
   ],
   "source": [
    "df = pd.DataFrame(license_plates_text3)\n",
    "df.to_csv('Positive Indian Number Plate.csv',index = False)\n",
    "\n",
    "data = pd.read_csv('Positive Indian Number Plate.csv')\n",
    "\n",
    "data.head()"
   ]
  },
  {
   "cell_type": "code",
   "execution_count": 28,
   "id": "9145e501-17d6-4569-bd53-469484f721cd",
   "metadata": {},
   "outputs": [
    {
     "data": {
      "text/html": [
       "<div>\n",
       "<style scoped>\n",
       "    .dataframe tbody tr th:only-of-type {\n",
       "        vertical-align: middle;\n",
       "    }\n",
       "\n",
       "    .dataframe tbody tr th {\n",
       "        vertical-align: top;\n",
       "    }\n",
       "\n",
       "    .dataframe thead th {\n",
       "        text-align: right;\n",
       "    }\n",
       "</style>\n",
       "<table border=\"1\" class=\"dataframe\">\n",
       "  <thead>\n",
       "    <tr style=\"text-align: right;\">\n",
       "      <th></th>\n",
       "      <th>Folder : Positive Indian Number Plates</th>\n",
       "    </tr>\n",
       "  </thead>\n",
       "  <tbody>\n",
       "    <tr>\n",
       "      <th>0</th>\n",
       "      <td>I KAO3MS79794\\n</td>\n",
       "    </tr>\n",
       "    <tr>\n",
       "      <th>1</th>\n",
       "      <td></td>\n",
       "    </tr>\n",
       "    <tr>\n",
       "      <th>2</th>\n",
       "      <td>FR 2686 0394\\n</td>\n",
       "    </tr>\n",
       "    <tr>\n",
       "      <th>3</th>\n",
       "      <td>I=L 1¢P0290)\\n</td>\n",
       "    </tr>\n",
       "    <tr>\n",
       "      <th>4</th>\n",
       "      <td>KA%45 M 2052.\\n</td>\n",
       "    </tr>\n",
       "  </tbody>\n",
       "</table>\n",
       "</div>"
      ],
      "text/plain": [
       "  Folder : Positive Indian Number Plates\n",
       "0                       I KAO3MS79794\\n\n",
       "\n",
       "1                                      \n",
       "\n",
       "2                        FR 2686 0394\\n\n",
       "\n",
       "3                        I=L 1¢P0290)\\n\n",
       "\n",
       "4                       KA%45 M 2052.\\n"
      ]
     },
     "execution_count": 28,
     "metadata": {},
     "output_type": "execute_result"
    }
   ],
   "source": [
    "# data.rename(columns={\"0\": \"Folder : Positive Indian Number Plates \"}, inplace=True)\n",
    "data['Folder : Positive Indian Number Plates']=data['0']\n",
    "del data['0']\n",
    "data.head()\n",
    "# data.shap"
   ]
  },
  {
   "cell_type": "code",
   "execution_count": 29,
   "id": "841aa829-eac1-40fa-b2c9-6ca75e6fd6fc",
   "metadata": {},
   "outputs": [
    {
     "name": "stdout",
     "output_type": "stream",
     "text": [
      "\f",
      "\n"
     ]
    }
   ],
   "source": [
    "print(data['Folder : Positive Indian Number Plates'].iloc[5])"
   ]
  },
  {
   "cell_type": "code",
   "execution_count": 30,
   "id": "364ffb5e-9da0-4544-a746-135c01381fa4",
   "metadata": {},
   "outputs": [],
   "source": [
    "for i in range(1,len(data['Folder : Positive Indian Number Plates'])):\n",
    "    data['Folder : Positive Indian Number Plates'].iloc[i] = nonpunct(data['Folder : Positive Indian Number Plates'].iloc[i])"
   ]
  },
  {
   "cell_type": "code",
   "execution_count": 31,
   "id": "2d00d462-76c0-4f12-9ca3-a2e9c93e2771",
   "metadata": {},
   "outputs": [],
   "source": [
    "# for i in range(1,len(data['Folder : Positive Indian Number Plates'])):\n",
    "#     if len(data['Folder : Positive Indian Number Plates'].iloc[i])==10:\n",
    "#         data['Folder : Positive Indian Number Plates'] = data['Folder : Positive Indian Number Plates']\n",
    "#     else:\n",
    "#         data['Folder : Positive Indian Number Plates'] = '0'\n",
    "        "
   ]
  },
  {
   "cell_type": "code",
   "execution_count": 32,
   "id": "04d53a38-2673-4bd3-bfbe-1c9365a02e8e",
   "metadata": {},
   "outputs": [],
   "source": [
    "data.to_csv(\"omg.csv\")"
   ]
  },
  {
   "cell_type": "code",
   "execution_count": 33,
   "id": "626b572f-67b3-44d8-be03-46b39af86c7e",
   "metadata": {
    "tags": []
   },
   "outputs": [
    {
     "data": {
      "text/html": [
       "<div>\n",
       "<style scoped>\n",
       "    .dataframe tbody tr th:only-of-type {\n",
       "        vertical-align: middle;\n",
       "    }\n",
       "\n",
       "    .dataframe tbody tr th {\n",
       "        vertical-align: top;\n",
       "    }\n",
       "\n",
       "    .dataframe thead th {\n",
       "        text-align: right;\n",
       "    }\n",
       "</style>\n",
       "<table border=\"1\" class=\"dataframe\">\n",
       "  <thead>\n",
       "    <tr style=\"text-align: right;\">\n",
       "      <th></th>\n",
       "      <th>Unnamed: 0</th>\n",
       "      <th>Folder : Positive Indian Number Plates</th>\n",
       "    </tr>\n",
       "  </thead>\n",
       "  <tbody>\n",
       "    <tr>\n",
       "      <th>0</th>\n",
       "      <td>0</td>\n",
       "      <td>I KAO3MS79794\\n</td>\n",
       "    </tr>\n",
       "    <tr>\n",
       "      <th>1</th>\n",
       "      <td>1</td>\n",
       "      <td></td>\n",
       "    </tr>\n",
       "    <tr>\n",
       "      <th>2</th>\n",
       "      <td>2</td>\n",
       "      <td>FR 2686 0394</td>\n",
       "    </tr>\n",
       "    <tr>\n",
       "      <th>3</th>\n",
       "      <td>3</td>\n",
       "      <td>I L 1¢P0290</td>\n",
       "    </tr>\n",
       "    <tr>\n",
       "      <th>4</th>\n",
       "      <td>4</td>\n",
       "      <td>KA 45 M 2052</td>\n",
       "    </tr>\n",
       "  </tbody>\n",
       "</table>\n",
       "</div>"
      ],
      "text/plain": [
       "   Unnamed: 0 Folder : Positive Indian Number Plates\n",
       "0           0                       I KAO3MS79794\\n\n",
       "\n",
       "1           1                                      \n",
       "\n",
       "2           2                         FR 2686 0394 \n",
       "\n",
       "3           3                         I L 1¢P0290  \n",
       "\n",
       "4           4                        KA 45 M 2052  "
      ]
     },
     "execution_count": 33,
     "metadata": {},
     "output_type": "execute_result"
    }
   ],
   "source": [
    "data1 = pd.read_csv(\"omg.csv\")\n",
    "data1.head()"
   ]
  },
  {
   "cell_type": "code",
   "execution_count": 34,
   "id": "368c8680-39f3-4ab5-bc7c-6d4b3404dcb1",
   "metadata": {},
   "outputs": [
    {
     "data": {
      "text/plain": [
       "['!',\n",
       " '\"',\n",
       " '#',\n",
       " '$',\n",
       " '%',\n",
       " '&',\n",
       " \"'\",\n",
       " '(',\n",
       " ')',\n",
       " '*',\n",
       " '+',\n",
       " ',',\n",
       " '-',\n",
       " '.',\n",
       " '/',\n",
       " ':',\n",
       " ';',\n",
       " '<',\n",
       " '=',\n",
       " '>',\n",
       " '?',\n",
       " '@',\n",
       " '[',\n",
       " '\\\\',\n",
       " ']',\n",
       " '^',\n",
       " '_',\n",
       " '`',\n",
       " '{',\n",
       " '|',\n",
       " '}',\n",
       " '~',\n",
       " '\\n']"
      ]
     },
     "execution_count": 34,
     "metadata": {},
     "output_type": "execute_result"
    }
   ],
   "source": [
    "pun"
   ]
  }
 ],
 "metadata": {
  "kernelspec": {
   "display_name": "Python 3 (ipykernel)",
   "language": "python",
   "name": "python3"
  },
  "language_info": {
   "codemirror_mode": {
    "name": "ipython",
    "version": 3
   },
   "file_extension": ".py",
   "mimetype": "text/x-python",
   "name": "python",
   "nbconvert_exporter": "python",
   "pygments_lexer": "ipython3",
   "version": "3.8.12"
  },
  "toc-showcode": true
 },
 "nbformat": 4,
 "nbformat_minor": 5
}
