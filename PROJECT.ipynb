{
 "cells": [
  {
   "cell_type": "code",
   "execution_count": null,
   "metadata": {
    "colab": {
     "base_uri": "https://localhost:8080/",
     "height": 412
    },
    "id": "s-IMVq0EeZyN",
    "outputId": "af409a26-1124-4c1d-bdd7-6b089a140df2"
   },
   "outputs": [],
   "source": [
    "import numpy as np  \n",
    "import pandas as pd \n",
    "import matplotlib.pyplot as plt\n",
    "import csv\n",
    "import seaborn as sns\n",
    "dataset = pd.read_csv('omg.csv')\n",
    "dataset.rename(columns = {\"Folder : Positive Indian Number Plates\": \"License-Plate\"}, inplace=True)\n",
    "dataset.drop(['Unnamed: 0'], axis='columns', inplace=True)\n",
    "dataset.to_csv('file_name.csv', index=False)\n",
    "with open('file_name.csv') as input, open('new.csv', 'w', newline='') as output:\n",
    "     writer = csv.writer(output)\n",
    "     for row in csv.reader(input):\n",
    "         if any(field.strip() for field in row):\n",
    "             writer.writerow(row)\n",
    "dataset = pd.read_csv('new.csv')\n",
    "dataset"
   ]
  },
  {
   "cell_type": "code",
   "execution_count": 5,
   "metadata": {
    "id": "DxPMs_1Ah1aB"
   },
   "outputs": [],
   "source": [
    "  State = []\n",
    "  for row in dataset['License-Plate']:\n",
    "    if \"KA\" in row :    \n",
    "      State.append('Karnataka')\n",
    "    elif \"TN\" in row:   \n",
    "      State.append('Tamil Nadu')\n",
    "    elif \"MH\" in row:  \n",
    "      State.append('Maharastra')\n",
    "    elif \"DL\" in row:  \n",
    "      State.append('Delhi')\n",
    "    elif \"WB\" in row:  \n",
    "     State.append('West Bengal')\n",
    "    elif \"PB\" in row:  \n",
    "      State.append('Punjab')\n",
    "    elif \"GJ\" in row:  \n",
    "     State.append('Gujarat')\n",
    "    elif \"UP\" in row:  \n",
    "      State.append('Uttar Pradesh')\n",
    "    elif \"AP\" in row:  \n",
    "      State.append('Andra Pradesh')\n",
    "    elif \"MP\" in row:  \n",
    "      State.append('Madhya Pradesh')\n",
    "    elif \"AR\" in row:  \n",
    "      State.append('Arunachal Pradesh')\n",
    "    elif \"AS\" in row:  \n",
    "      State.append('Assam')\n",
    "    elif \"Mn\" in row:  \n",
    "     State.append('Manipur')\n",
    "    elif \"HR\" in row:  \n",
    "      State.append('Haryana')\n",
    "    elif \"la\" in row:  \n",
    "     State.append('Ladakh')\n",
    "    elif \"AN\" in row:  \n",
    "     State.append('Andaman and Nicobar Islands')\n",
    "    elif \"KL\" in row:  \n",
    "      State.append('Kerala')\n",
    "    elif \"BR\" in row:  \n",
    "      State.append('Bihar')\n",
    "    elif \"CH\" in row:  \n",
    "      State.append('Chandigarh')  \n",
    "    elif \"CG\" in row:  \n",
    "      State.append('Chhattisgarh')\n",
    "    elif \"GA\" in row:  \n",
    "      State.append('Goa')\n",
    "    elif \"HP\" in row:  \n",
    "     State.append('Himachal Pradhesh')\n",
    "    elif \"JK\" in row:  \n",
    "      State.append('Jammu & Kashmir')\n",
    "    elif \"JH\" in row:  \n",
    "     State.append('Jharkhand')\n",
    "    elif \"LD\" in row:  \n",
    "     State.append('Lakshadweep')\n",
    "    elif \"MN\" in row:  \n",
    "      State.append('Manipur')\n",
    "    elif \"ML\" in row:  \n",
    "      State.append('Meghalaya')\n",
    "    elif \"MZ\" in row:  \n",
    "      State.append('Mizoram')\n",
    "    elif \"NL\" in row:  \n",
    "      State.append('Nagaland')\n",
    "    elif \"OD\" in row:  \n",
    "      State.append('Odisha')\n",
    "    elif \"OR\" in row:  \n",
    "     State.append('Odisha')\n",
    "    elif \"PY\" in row:  \n",
    "      State.append('Puducherry')\n",
    "    elif \"RJ\" in row:  \n",
    "      State.append('Rajastan')\n",
    "    elif \"SK\" in row:  \n",
    "      State.append('Sikkim')\n",
    "    elif \"TL\" in row:  \n",
    "      State.append('Telangana')\n",
    "    elif \"TR\" in row:  \n",
    "      State.append('Tripura')\n",
    "    elif \"UK\" in row:  \n",
    "      State.append('Uttarakhand')\n",
    "    elif \"UA\" in row:  \n",
    "      State.append('Uttarakhand')\n",
    "    elif \"DD\" in row:  \n",
    "      State.append('Dadra and Nagar Haveli')\n",
    "    elif \"DN\" in row:  \n",
    "      State.append('Dadra and Nagar Haveli')\n",
    "    elif \" \" in row:  \n",
    "      State.append('NA')\n",
    "    else:           \n",
    "      State.append('NA')\n",
    "\n",
    "  dataset['State'] = State"
   ]
  },
  {
   "cell_type": "code",
   "execution_count": 6,
   "metadata": {
    "colab": {
     "base_uri": "https://localhost:8080/",
     "height": 412
    },
    "id": "NCt9x7w7mCCM",
    "outputId": "b19ed3c6-bcdc-4aa5-a458-96306696fef4"
   },
   "outputs": [
    {
     "data": {
      "text/html": [
       "<div>\n",
       "<style scoped>\n",
       "    .dataframe tbody tr th:only-of-type {\n",
       "        vertical-align: middle;\n",
       "    }\n",
       "\n",
       "    .dataframe tbody tr th {\n",
       "        vertical-align: top;\n",
       "    }\n",
       "\n",
       "    .dataframe thead th {\n",
       "        text-align: right;\n",
       "    }\n",
       "</style>\n",
       "<table border=\"1\" class=\"dataframe\">\n",
       "  <thead>\n",
       "    <tr style=\"text-align: right;\">\n",
       "      <th></th>\n",
       "      <th>License-Plate</th>\n",
       "      <th>State</th>\n",
       "    </tr>\n",
       "  </thead>\n",
       "  <tbody>\n",
       "    <tr>\n",
       "      <th>0</th>\n",
       "      <td>“KAD3HN9993\\n</td>\n",
       "      <td>Karnataka</td>\n",
       "    </tr>\n",
       "    <tr>\n",
       "      <th>1</th>\n",
       "      <td>I KAO3MS79794\\n</td>\n",
       "      <td>Karnataka</td>\n",
       "    </tr>\n",
       "    <tr>\n",
       "      <th>2</th>\n",
       "      <td></td>\n",
       "      <td>NA</td>\n",
       "    </tr>\n",
       "    <tr>\n",
       "      <th>3</th>\n",
       "      <td>FR 2686 0394\\n</td>\n",
       "      <td>NA</td>\n",
       "    </tr>\n",
       "    <tr>\n",
       "      <th>4</th>\n",
       "      <td>I L 1¢P0290 \\n</td>\n",
       "      <td>NA</td>\n",
       "    </tr>\n",
       "    <tr>\n",
       "      <th>...</th>\n",
       "      <td>...</td>\n",
       "      <td>...</td>\n",
       "    </tr>\n",
       "    <tr>\n",
       "      <th>1177</th>\n",
       "      <td>¥HO2CD8833\\n</td>\n",
       "      <td>NA</td>\n",
       "    </tr>\n",
       "    <tr>\n",
       "      <th>1178</th>\n",
       "      <td>\\n\\nEINES « DA\\n</td>\n",
       "      <td>NA</td>\n",
       "    </tr>\n",
       "    <tr>\n",
       "      <th>1179</th>\n",
       "      <td>THO7BT3859\\n</td>\n",
       "      <td>NA</td>\n",
       "    </tr>\n",
       "    <tr>\n",
       "      <th>1180</th>\n",
       "      <td>WBQ2010 369\\n</td>\n",
       "      <td>West Bengal</td>\n",
       "    </tr>\n",
       "    <tr>\n",
       "      <th>1181</th>\n",
       "      <td>\\n</td>\n",
       "      <td>NA</td>\n",
       "    </tr>\n",
       "  </tbody>\n",
       "</table>\n",
       "<p>1182 rows × 2 columns</p>\n",
       "</div>"
      ],
      "text/plain": [
       "           License-Plate        State\n",
       "0         “KAD3HN9993\\n\n",
       "    Karnataka\n",
       "1       I KAO3MS79794\\n\n",
       "    Karnataka\n",
       "2                      \n",
       "           NA\n",
       "3        FR 2686 0394\\n\n",
       "           NA\n",
       "4        I L 1¢P0290 \\n\n",
       "           NA\n",
       "...                  ...          ...\n",
       "1177       ¥HO2CD8833\\n\n",
       "           NA\n",
       "1178   \\n\\nEINES « DA\\n\n",
       "           NA\n",
       "1179       THO7BT3859\\n\n",
       "           NA\n",
       "1180      WBQ2010 369\\n\n",
       "  West Bengal\n",
       "1181                 \\n\n",
       "           NA\n",
       "\n",
       "[1182 rows x 2 columns]"
      ]
     },
     "execution_count": 6,
     "metadata": {},
     "output_type": "execute_result"
    }
   ],
   "source": [
    "dataset"
   ]
  },
  {
   "cell_type": "code",
   "execution_count": 7,
   "metadata": {
    "colab": {
     "base_uri": "https://localhost:8080/"
    },
    "id": "3zYYpvS1tftm",
    "outputId": "98ed944a-5b25-44de-eeac-e5cafafc17dc"
   },
   "outputs": [
    {
     "data": {
      "text/plain": [
       "NA                             625\n",
       "Maharastra                     176\n",
       "Andra Pradesh                   78\n",
       "Delhi                           69\n",
       "West Bengal                     55\n",
       "Tamil Nadu                      43\n",
       "Karnataka                       25\n",
       "Haryana                         13\n",
       "Punjab                          12\n",
       "Andaman and Nicobar Islands     12\n",
       "Arunachal Pradesh               11\n",
       "Gujarat                         11\n",
       "Assam                            9\n",
       "Uttar Pradesh                    9\n",
       "Kerala                           9\n",
       "Odisha                           6\n",
       "Madhya Pradesh                   5\n",
       "Dadra and Nagar Haveli           3\n",
       "Tripura                          2\n",
       "Uttarakhand                      2\n",
       "Nagaland                         2\n",
       "Bihar                            1\n",
       "Manipur                          1\n",
       "Telangana                        1\n",
       "Chandigarh                       1\n",
       "Meghalaya                        1\n",
       "Name: State, dtype: int64"
      ]
     },
     "execution_count": 7,
     "metadata": {},
     "output_type": "execute_result"
    }
   ],
   "source": [
    "dataset['State'].value_counts()"
   ]
  },
  {
   "cell_type": "code",
   "execution_count": 8,
   "metadata": {
    "colab": {
     "base_uri": "https://localhost:8080/",
     "height": 480
    },
    "id": "HvgLSNgKX3ky",
    "outputId": "74cf220d-a049-4d04-ada8-a07bda68c80b"
   },
   "outputs": [
    {
     "name": "stdout",
     "output_type": "stream",
     "text": [
      "[557, 625]\n"
     ]
    },
    {
     "data": {
      "image/png": "[encoded data removed]",
      "text/plain": [
       "<Figure size 720x504 with 1 Axes>"
      ]
     },
     "metadata": {
      "needs_background": "light"
     },
     "output_type": "display_data"
    }
   ],
   "source": [
    "fig = plt.figure(figsize=(10, 7))\n",
    "NA = (dataset.loc[dataset['State'] == \"NA\"])['State'].count()\n",
    "Assign = ((dataset.loc[dataset['State'] != \"NA\"])['State'].count())\n",
    "labels = ['Successful','Unsuccessful']\n",
    "plt.xlabel('DETECTION', fontsize = 15) \n",
    "plt.ylabel('Total Vehicles', fontsize = 15) \n",
    "values = [Assign,NA]\n",
    "print(values)\n",
    "plt.title('Indian License Plate Detection')\n",
    "plt.bar(labels,values)\n",
    "plt.show()"
   ]
  },
  {
   "cell_type": "code",
   "execution_count": 9,
   "metadata": {
    "colab": {
     "base_uri": "https://localhost:8080/",
     "height": 699
    },
    "id": "IPY-_25zyBqU",
    "outputId": "251e1d21-49cc-4e8f-8cb0-d9daa95815fe"
   },
   "outputs": [
    {
     "data": {
      "image/png": "[encoded data removed]",
      "text/plain": [
       "<Figure size 2304x864 with 1 Axes>"
      ]
     },
     "metadata": {
      "needs_background": "light"
     },
     "output_type": "display_data"
    }
   ],
   "source": [
    "df = dataset[dataset['State'] != \"NA\"]\n",
    "fig = plt.figure(figsize=(32, 12))\n",
    "ax=sns.countplot(x='State',data=df);   \n",
    "plt.title('DETECTED INDIAN LICENSE PLATES', fontsize = 20) \n",
    "plt.xlabel('States', fontsize = 20) \n",
    "plt.ylabel('Total Vehicles', fontsize = 20) \n",
    "plt.show()"
   ]
  },
  {
   "cell_type": "code",
   "execution_count": null,
   "metadata": {},
   "outputs": [],
   "source": []
  }
 ],
 "metadata": {
  "colab": {
   "name": "FDS-PROJECT.ipynb",
   "provenance": []
  },
  "kernelspec": {
   "display_name": "Python 3 (ipykernel)",
   "language": "python",
   "name": "python3"
  },
  "language_info": {
   "codemirror_mode": {
    "name": "ipython",
    "version": 3
   },
   "file_extension": ".py",
   "mimetype": "text/x-python",
   "name": "python",
   "nbconvert_exporter": "python",
   "pygments_lexer": "ipython3",
   "version": "3.8.12"
  }
 },
 "nbformat": 4,
 "nbformat_minor": 4
}
